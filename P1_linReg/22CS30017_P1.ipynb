{
 "cells": [
  {
   "cell_type": "markdown",
   "metadata": {},
   "source": [
    "### *APPLICATION OF MACHINE LEARNING IN BIOLOGICAL SYSTEMS (ES60011)*\n",
    "# **Project-1**\n",
    "#### Linear Regression"
   ]
  },
  {
   "cell_type": "markdown",
   "metadata": {},
   "source": [
    "## Import Library\n",
    "Gather all necessary libraries for data manipulation and linear regression modeling\n"
   ]
  },
  {
   "cell_type": "code",
   "execution_count": 1,
   "metadata": {},
   "outputs": [],
   "source": [
    "import numpy as np\n",
    "import pandas as pd\n",
    "import matplotlib.pyplot as plt\n",
    "from sklearn.preprocessing import LabelEncoder\n",
    "from sklearn.model_selection import train_test_split\n",
    "import copy"
   ]
  },
  {
   "cell_type": "markdown",
   "metadata": {},
   "source": [
    "## Load Dataset\n",
    "Read the dataset into a data frame to start working with it. "
   ]
  },
  {
   "cell_type": "code",
   "execution_count": 2,
   "metadata": {},
   "outputs": [],
   "source": [
    "filepath = None\n",
    "filepath = \"data_insurance.csv\"\n",
    "df = pd.read_csv(filepath)"
   ]
  },
  {
   "cell_type": "markdown",
   "metadata": {},
   "source": [
    "## Explore the Data\n",
    "Get an overview of the dataset by looking at the first few rows, summary statistics, and data types."
   ]
  },
  {
   "cell_type": "code",
   "execution_count": 3,
   "metadata": {},
   "outputs": [
    {
     "name": "stdout",
     "output_type": "stream",
     "text": [
      "\n",
      "Head:\n",
      "    age     sex     bmi  children smoker     region      charges\n",
      "0   19  female  27.900         0    yes  southwest  16884.92400\n",
      "1   18    male  33.770         1     no  southeast   1725.55230\n",
      "2   28    male  33.000         3     no  southeast   4449.46200\n",
      "3   33    male  22.705         0     no  northwest  21984.47061\n",
      "4   32    male  28.880         0     no  northwest   3866.85520\n",
      "\n",
      "Shape:\n",
      " (1338, 7)\n",
      "\n",
      "Columns:\n",
      " Index(['age', 'sex', 'bmi', 'children', 'smoker', 'region', 'charges'], dtype='object')\n",
      "\n",
      "Describe:\n",
      "                age          bmi     children       charges\n",
      "count  1338.000000  1338.000000  1338.000000   1338.000000\n",
      "mean     39.207025    30.663397     1.094918  13270.422265\n",
      "std      14.049960     6.098187     1.205493  12110.011237\n",
      "min      18.000000    15.960000     0.000000   1121.873900\n",
      "25%      27.000000    26.296250     0.000000   4740.287150\n",
      "50%      39.000000    30.400000     1.000000   9382.033000\n",
      "75%      51.000000    34.693750     2.000000  16639.912515\n",
      "max      64.000000    53.130000     5.000000  63770.428010\n",
      "\n",
      " Describe:\n",
      "                age          bmi     children       charges\n",
      "count  1338.000000  1338.000000  1338.000000   1338.000000\n",
      "mean     39.207025    30.663397     1.094918  13270.422265\n",
      "std      14.049960     6.098187     1.205493  12110.011237\n",
      "min      18.000000    15.960000     0.000000   1121.873900\n",
      "25%      27.000000    26.296250     0.000000   4740.287150\n",
      "50%      39.000000    30.400000     1.000000   9382.033000\n",
      "75%      51.000000    34.693750     2.000000  16639.912515\n",
      "max      64.000000    53.130000     5.000000  63770.428010\n",
      "\n",
      " Data Types:\n",
      " age           int64\n",
      "sex          object\n",
      "bmi         float64\n",
      "children      int64\n",
      "smoker       object\n",
      "region       object\n",
      "charges     float64\n",
      "dtype: object\n"
     ]
    }
   ],
   "source": [
    "print(\"\\nHead:\\n\", df.head())\n",
    "print(\"\\nShape:\\n\", df.shape)\n",
    "print(\"\\nColumns:\\n\", df.columns)\n",
    "print(\"\\nDescribe:\\n\", df.describe())\n",
    "print(\"\\n Describe:\\n\", df.describe())\n",
    "print(\"\\n Data Types:\\n\", df.dtypes)"
   ]
  },
  {
   "cell_type": "markdown",
   "metadata": {},
   "source": [
    "## Check Missing Values"
   ]
  },
  {
   "cell_type": "code",
   "execution_count": 4,
   "metadata": {},
   "outputs": [
    {
     "name": "stdout",
     "output_type": "stream",
     "text": [
      "\n",
      "Missing Values:\n",
      "age         0\n",
      "sex         0\n",
      "bmi         0\n",
      "children    0\n",
      "smoker      0\n",
      "region      0\n",
      "charges     0\n",
      "dtype: int64\n"
     ]
    }
   ],
   "source": [
    "print(\"\\nMissing Values:\")\n",
    "print(df.isnull().sum())"
   ]
  },
  {
   "cell_type": "markdown",
   "metadata": {},
   "source": [
    "## Define Features and Target\n",
    "Separate the dataset into input features (independent variables) and the target variable (dependent variable, \"charges\")"
   ]
  },
  {
   "cell_type": "code",
   "execution_count": 5,
   "metadata": {},
   "outputs": [
    {
     "name": "stdout",
     "output_type": "stream",
     "text": [
      "Shape of X:  (1338, 6) Shape of y:  (1338,)\n"
     ]
    }
   ],
   "source": [
    "X = np.array(df.iloc[:, :-1].values)\n",
    "y = np.array(df.iloc[:, -1].values)\n",
    "\n",
    "print(\"Shape of X: \",X.shape, \"Shape of y: \",y.shape)"
   ]
  },
  {
   "cell_type": "markdown",
   "metadata": {},
   "source": [
    "## Convert Categorical Variables"
   ]
  },
  {
   "cell_type": "markdown",
   "metadata": {},
   "source": [
    "*Convert categorical variables like ‘sex’, ‘smoker’, and ‘region into numerical values using encoding techniques.*"
   ]
  },
  {
   "cell_type": "code",
   "execution_count": 6,
   "metadata": {},
   "outputs": [
    {
     "name": "stdout",
     "output_type": "stream",
     "text": [
      "\n",
      "X before encoding:\n",
      "[[19 'female' 27.9 0 'yes' 'southwest']\n",
      " [18 'male' 33.77 1 'no' 'southeast']\n",
      " [28 'male' 33.0 3 'no' 'southeast']\n",
      " [33 'male' 22.705 0 'no' 'northwest']\n",
      " [32 'male' 28.88 0 'no' 'northwest']]\n",
      "\n",
      "X after encoding:\n",
      "[[19 0 27.9 0 1 3]\n",
      " [18 1 33.77 1 0 2]\n",
      " [28 1 33.0 3 0 2]\n",
      " [33 1 22.705 0 0 1]\n",
      " [32 1 28.88 0 0 1]]\n"
     ]
    }
   ],
   "source": [
    "print(\"\\nX before encoding:\")\n",
    "print(X[:5])\n",
    "\n",
    "le = LabelEncoder()\n",
    "X[:,1] = le.fit_transform(X[:,1])\n",
    "X[:,4] = le.fit_transform(X[:,4])\n",
    "X[:,5] = le.fit_transform(X[:,5])\n",
    "print(\"\\nX after encoding:\")\n",
    "print(X[:5])"
   ]
  },
  {
   "cell_type": "markdown",
   "metadata": {},
   "source": [
    "*Check for any missing values and address them appropriately, such as by filling them in or dropping rows/columns.*"
   ]
  },
  {
   "cell_type": "code",
   "execution_count": 7,
   "metadata": {},
   "outputs": [
    {
     "name": "stdout",
     "output_type": "stream",
     "text": [
      "\n",
      "X before missing value imputation:\n",
      "[[19 0 27.9 0 1 3]\n",
      " [18 1 33.77 1 0 2]\n",
      " [28 1 33.0 3 0 2]\n",
      " [33 1 22.705 0 0 1]\n",
      " [32 1 28.88 0 0 1]]\n",
      "\n",
      "X after missing value imputation(if any):\n",
      "[[19 0 27.9 0 1 3]\n",
      " [18 1 33.77 1 0 2]\n",
      " [28 1 33.0 3 0 2]\n",
      " [33 1 22.705 0 0 1]\n",
      " [32 1 28.88 0 0 1]]\n"
     ]
    }
   ],
   "source": [
    "age = X[:,0]\n",
    "age = age[age != '']\n",
    "age = age.astype(float)\n",
    "mean_age = np.mean(age)\n",
    "# print(\"\\nMean age: \", mean_age)\n",
    "X[:,0][X[:,0] == ''] = mean_age\n",
    "\n",
    "sex = X[:,1]\n",
    "values, counts = np.unique(sex, return_counts=True)\n",
    "mode_sex = values[np.argmax(counts)]\n",
    "# print(\"\\nMode sex: \", mode_sex)\n",
    "X[:,5][X[:,5] == ''] = mode_sex\n",
    "\n",
    "bmi = X[:,2]\n",
    "bmi = bmi[bmi != '']\n",
    "bmi = bmi.astype(float)\n",
    "mean_bmi = np.mean(bmi)\n",
    "# print(\"\\nMean bmi: \", mean_bmi)\n",
    "X[:,2][X[:,2] == ''] = mean_bmi\n",
    "\n",
    "children = X[:,3]\n",
    "children = children[children != '']\n",
    "children = children.astype(int)\n",
    "mode_children = np.argmax(np.bincount(children))\n",
    "# print(\"\\nMode children: \", mode_children)\n",
    "X[:,3][X[:,3] == ''] = mode_children\n",
    "\n",
    "smoker = X[:,4]\n",
    "values, counts = np.unique(smoker, return_counts=True)\n",
    "mode_smoker = values[np.argmax(counts)]\n",
    "# print(\"\\nMode smoker: \", mode_smoker)\n",
    "X[:,4][X[:,4] == ''] = mode_smoker\n",
    "\n",
    "region = X[:,5]\n",
    "values, counts = np.unique(region, return_counts=True)\n",
    "mode_region = values[np.argmax(counts)]\n",
    "# print(\"\\nMode region: \", mode_region)\n",
    "X[:,5][X[:,5] == ''] = mode_region\n",
    "\n",
    "print(\"\\nX before missing value imputation:\")\n",
    "print(X[:5])\n",
    "# after filling missing values\n",
    "print(\"\\nX after missing value imputation(if any):\")\n",
    "print(X[:5])"
   ]
  },
  {
   "cell_type": "markdown",
   "metadata": {},
   "source": [
    "### *Scaling the dataset*"
   ]
  },
  {
   "cell_type": "code",
   "execution_count": 8,
   "metadata": {},
   "outputs": [
    {
     "name": "stdout",
     "output_type": "stream",
     "text": [
      "\n",
      "X before scaling:\n",
      "[[19 0 27.9 0 1 3]\n",
      " [18 1 33.77 1 0 2]\n",
      " [28 1 33.0 3 0 2]\n",
      " [33 1 22.705 0 0 1]\n",
      " [32 1 28.88 0 0 1]]\n",
      "\n",
      "X after scaling:\n",
      "[[0.02173913 0.         0.3212268  0.         1.         1.        ]\n",
      " [0.         1.         0.47914985 0.2        0.         0.66666667]\n",
      " [0.2173913  1.         0.45843422 0.6        0.         0.66666667]\n",
      " [0.32608696 1.         0.18146355 0.         0.         0.33333333]\n",
      " [0.30434783 1.         0.34759214 0.         0.         0.33333333]]\n"
     ]
    }
   ],
   "source": [
    "def min_max_scaler(X, feature_range=(0, 1)):\n",
    "    X_min = np.min(X, axis=0)\n",
    "    X_max = np.max(X, axis=0)\n",
    "\n",
    "    X_scaled = (X-X_min)/(X_max-X_min)\n",
    "\n",
    "    return X_scaled\n",
    "\n",
    "print(\"\\nX before scaling:\")\n",
    "print(X[:5])\n",
    "X = X.astype(float)\n",
    "\n",
    "X = min_max_scaler(X)\n",
    "print(\"\\nX after scaling:\")\n",
    "print(X[:5])"
   ]
  },
  {
   "cell_type": "markdown",
   "metadata": {},
   "source": [
    "## Split the Dataset\n",
    "Divide the data into training and testing sets to evaluate the model's performance on unseen data. "
   ]
  },
  {
   "cell_type": "code",
   "execution_count": 9,
   "metadata": {},
   "outputs": [
    {
     "name": "stdout",
     "output_type": "stream",
     "text": [
      "\n",
      "X_train shape:  (1070, 6) y_train shape:  (1070,)\n",
      "X_test shape:  (268, 6) y_test shape:  (268,)\n"
     ]
    }
   ],
   "source": [
    "X_train, X_test, y_train, y_test = train_test_split(X, y, test_size=0.2, random_state=0)\n",
    "print(\"\\nX_train shape: \", X_train.shape, \"y_train shape: \", y_train.shape)\n",
    "print(\"X_test shape: \", X_test.shape, \"y_test shape: \", y_test.shape)"
   ]
  },
  {
   "cell_type": "markdown",
   "metadata": {},
   "source": [
    "## **Train the Linear Regression Model**"
   ]
  },
  {
   "cell_type": "markdown",
   "metadata": {},
   "source": [
    "## *Mean Squared Error*\n",
    "### 1. Computing the Loss Function"
   ]
  },
  {
   "cell_type": "code",
   "execution_count": 10,
   "metadata": {},
   "outputs": [],
   "source": [
    "def loss_function(X, y, w, b):\n",
    "    m = X.shape[0]\n",
    "    \n",
    "    y_pred = np.dot(X, w.T) + b\n",
    "    loss = np.sum((y_pred - y) ** 2) / (2 * m)\n",
    "    return loss"
   ]
  },
  {
   "cell_type": "markdown",
   "metadata": {},
   "source": [
    "### 2. Comptuing the Gradient of the Loss"
   ]
  },
  {
   "cell_type": "code",
   "execution_count": 11,
   "metadata": {},
   "outputs": [],
   "source": [
    "def compute_gradient(X, y, w, b):\n",
    "   m = X.shape[0]\n",
    "   \n",
    "   dL_dw = None\n",
    "   dL_db = None\n",
    "   \n",
    "   y_pred = np.dot(X, w.T) + b\n",
    "   dL_dw = np.dot((y_pred - y), X) / m\n",
    "   dL_db = np.sum(y_pred - y) / m\n",
    "   \n",
    "   return dL_dw, dL_db"
   ]
  },
  {
   "cell_type": "markdown",
   "metadata": {},
   "source": [
    "### 3. Training the Model using Batch Gradient Descent"
   ]
  },
  {
   "cell_type": "code",
   "execution_count": 12,
   "metadata": {},
   "outputs": [],
   "source": [
    "def batch_gradient_descent(X, y, w_initial, b_initial, alpha, num_iters):\n",
    "    loss_hist = []\n",
    "\n",
    "    w = copy.deepcopy(w_initial) \n",
    "    b = b_initial\n",
    "\n",
    "    for i in range(num_iters):\n",
    "        dL_dw, dL_db = compute_gradient(X, y, w, b)\n",
    "        w = w - alpha * dL_dw\n",
    "        b = b - alpha * dL_db\n",
    "\n",
    "        loss = loss_function(X, y, w, b)\n",
    "        loss_hist.append(loss)\n",
    "\n",
    "    return w, b, loss_hist"
   ]
  },
  {
   "cell_type": "markdown",
   "metadata": {},
   "source": [
    "### 4. Initialize the parameters and the hyperparameters"
   ]
  },
  {
   "cell_type": "code",
   "execution_count": 13,
   "metadata": {},
   "outputs": [],
   "source": [
    "random_seed = 17\n",
    "np.random.seed(random_seed)\n",
    "\n",
    "def initialize_parameters():\n",
    "    \n",
    "    initial_w = None\n",
    "    initial_b = None\n",
    "    alpha = None\n",
    "    alpha = 0.01\n",
    "\n",
    "    initial_w = np.random.normal(0, 1, X_train.shape[1])\n",
    "    initial_b = np.random.normal(0, 1, 1)\n",
    "    \n",
    "    return initial_w,initial_b,alpha\n"
   ]
  },
  {
   "cell_type": "code",
   "execution_count": 14,
   "metadata": {},
   "outputs": [
    {
     "name": "stdout",
     "output_type": "stream",
     "text": [
      "Updated w:  [11699.43503203   -31.18415617 11123.93077157  2171.11730011\n",
      " 23545.80040017  -827.54868364]\n",
      "Updated b:  [-1416.66249348]\n"
     ]
    }
   ],
   "source": [
    "initial_w, initial_b, alpha = initialize_parameters()\n",
    "num_iters = 10000\n",
    "\n",
    "w,b,loss_hist = batch_gradient_descent(X_train ,y_train, initial_w, initial_b, alpha, num_iters)\n",
    "print(\"Updated w: \",w)\n",
    "print(\"Updated b: \",b)"
   ]
  },
  {
   "cell_type": "markdown",
   "metadata": {},
   "source": [
    "### 5. Predicted \"charges\" on the test data"
   ]
  },
  {
   "cell_type": "code",
   "execution_count": 15,
   "metadata": {},
   "outputs": [
    {
     "name": "stdout",
     "output_type": "stream",
     "text": [
      "\n",
      "Predicted values for first 5 samples:\n",
      "[11067.86628126  9854.82672921 37684.19872688 15922.40471753\n",
      "  7326.03885068]\n",
      "\n",
      "Actual values for first 5 samples:\n",
      "[ 9724.53     8547.6913  45702.02235 12950.0712   9644.2525 ]\n"
     ]
    }
   ],
   "source": [
    "y_pred = np.dot(X_test, w.T) + b\n",
    "print(\"\\nPredicted values for first 5 samples:\")\n",
    "print(y_pred[:5])\n",
    "print(\"\\nActual values for first 5 samples:\")\n",
    "print(y_test[:5])"
   ]
  },
  {
   "cell_type": "markdown",
   "metadata": {},
   "source": [
    "### 6. Final Train Error and Test Error"
   ]
  },
  {
   "cell_type": "code",
   "execution_count": 16,
   "metadata": {},
   "outputs": [
    {
     "name": "stdout",
     "output_type": "stream",
     "text": [
      "Train Error(MSE):  18880857.99072353 , Test Error(MSE):  15959815.974657636\n"
     ]
    }
   ],
   "source": [
    "train_error = loss_function(X_train,y_train,w,b)\n",
    "test_error = loss_function(X_test,y_test,w,b)\n",
    "print(\"Train Error(MSE): \",train_error, \", Test Error(MSE): \",test_error)"
   ]
  },
  {
   "cell_type": "markdown",
   "metadata": {},
   "source": [
    "### 7. Plotting the loss function"
   ]
  },
  {
   "cell_type": "code",
   "execution_count": 17,
   "metadata": {},
   "outputs": [
    {
     "data": {
      "image/png": "[encoded data removed]",
      "text/plain": [
       "<Figure size 640x480 with 1 Axes>"
      ]
     },
     "metadata": {},
     "output_type": "display_data"
    }
   ],
   "source": [
    "loss_plot = [loss_hist[i] for i in range(len(loss_hist))]\n",
    "plt.title(\"Loss function vs Iterations: Mean Squared Error\")\n",
    "plt.xlabel(\"Iterations\")\n",
    "plt.ylabel(\"Loss function\")\n",
    "plt.plot(loss_plot)\n",
    "plt.show()"
   ]
  },
  {
   "cell_type": "markdown",
   "metadata": {},
   "source": [
    "### 8. Actual Vs Predicted values"
   ]
  },
  {
   "cell_type": "code",
   "execution_count": 18,
   "metadata": {},
   "outputs": [
    {
     "data": {
      "image/png": "[encoded data removed]",
      "text/plain": [
       "<Figure size 640x480 with 1 Axes>"
      ]
     },
     "metadata": {},
     "output_type": "display_data"
    },
    {
     "data": {
      "image/png": "[encoded data removed]",
      "text/plain": [
       "<Figure size 640x480 with 1 Axes>"
      ]
     },
     "metadata": {},
     "output_type": "display_data"
    }
   ],
   "source": [
    "plt.scatter(y_test, y_pred, color='blue', label='Actual vs Predicted', marker='.')\n",
    "plt.plot([y_test.min(), y_test.max()], [y_test.min(), y_test.max()], color='red', label='Actual = Predicted')\n",
    "plt.title(\"Actual vs Predicted values (Test Data)\")\n",
    "plt.xlabel(\"Actual\")\n",
    "plt.ylabel(\"Predicted\")\n",
    "plt.legend()\n",
    "plt.show()\n",
    "\n",
    "plt.scatter(range(y_test.shape[0]), y_test, color='blue', label='Actual', marker='.')\n",
    "plt.scatter(range(y_test.shape[0]), y_pred, color='red', label='Predicted', marker='.')\n",
    "plt.title(\"Actual vs Predicted values (Test Data)\")\n",
    "plt.xlabel(\"Index\")\n",
    "plt.ylabel(\"Values\")\n",
    "plt.legend()\n",
    "plt.show()"
   ]
  },
  {
   "cell_type": "markdown",
   "metadata": {},
   "source": [
    "## Analyze Model Coefficients"
   ]
  },
  {
   "cell_type": "code",
   "execution_count": 19,
   "metadata": {},
   "outputs": [
    {
     "name": "stdout",
     "output_type": "stream",
     "text": [
      "\n",
      "Feature Coefficients:\n",
      "Age:  11699.43503203334\n",
      "Sex:  -31.18415617310603\n",
      "BMI:  11123.93077157164\n",
      "Children:  2171.117300111294\n",
      "Smoker:  23545.800400171647\n",
      "Region:  -827.548683642712\n",
      "\n",
      "Model Intercept:  [-1416.66249348]\n"
     ]
    }
   ],
   "source": [
    "print(\"\\nFeature Coefficients:\")\n",
    "print(\"Age: \", w[0])\n",
    "print(\"Sex: \", w[1])\n",
    "print(\"BMI: \", w[2])\n",
    "print(\"Children: \", w[3])\n",
    "print(\"Smoker: \", w[4])\n",
    "print(\"Region: \", w[5])\n",
    "\n",
    "print(\"\\nModel Intercept: \", b)"
   ]
  },
  {
   "cell_type": "markdown",
   "metadata": {},
   "source": [
    "### R-squared"
   ]
  },
  {
   "cell_type": "code",
   "execution_count": 20,
   "metadata": {},
   "outputs": [
    {
     "name": "stdout",
     "output_type": "stream",
     "text": [
      "\n",
      "R-squared:  0.7994115534024913\n"
     ]
    }
   ],
   "source": [
    "def r_squared(y, y_pred):\n",
    "    y_mean = np.mean(y)\n",
    "    ss_total = np.sum((y - y_mean) ** 2)\n",
    "    ss_res = np.sum((y - y_pred) ** 2)\n",
    "    r2 = 1 - (ss_res / ss_total)\n",
    "    return r2\n",
    "\n",
    "r2 = r_squared(y_test, y_pred)\n",
    "print(\"\\nR-squared: \", r2)\n"
   ]
  }
 ],
 "metadata": {
  "kernelspec": {
   "display_name": "Python 3",
   "language": "python",
   "name": "python3"
  },
  "language_info": {
   "codemirror_mode": {
    "name": "ipython",
    "version": 3
   },
   "file_extension": ".py",
   "mimetype": "text/x-python",
   "name": "python",
   "nbconvert_exporter": "python",
   "pygments_lexer": "ipython3",
   "version": "3.9.7"
  }
 },
 "nbformat": 4,
 "nbformat_minor": 2
}
