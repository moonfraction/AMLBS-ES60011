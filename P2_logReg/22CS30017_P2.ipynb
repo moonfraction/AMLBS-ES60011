{
 "cells": [
  {
   "cell_type": "markdown",
   "metadata": {},
   "source": [
    "### *APPLICATION OF MACHINE LEARNING IN BIOLOGICAL SYSTEMS (ES60011)*\n",
    "# **Project-2**\n",
    "#### Logistic Regression"
   ]
  },
  {
   "cell_type": "markdown",
   "metadata": {},
   "source": [
    "## Import Library\n",
    "Gather all necessary libraries for data manipulation and logistic regression modeling\n"
   ]
  },
  {
   "cell_type": "code",
   "execution_count": 37,
   "metadata": {},
   "outputs": [],
   "source": [
    "import numpy as np\n",
    "import pandas as pd\n",
    "import matplotlib.pyplot as plt\n",
    "from sklearn.model_selection import train_test_split\n",
    "import copy\n",
    "import random\n",
    "from sklearn.metrics import classification_report, confusion_matrix\n",
    "import seaborn as sns\n",
    "import matplotlib.pyplot as plt\n",
    "from sklearn.metrics import confusion_matrix\n"
   ]
  },
  {
   "cell_type": "markdown",
   "metadata": {},
   "source": [
    "## Load Dataset\n",
    "Read the dataset into a data frame to start working with it. "
   ]
  },
  {
   "cell_type": "code",
   "execution_count": 38,
   "metadata": {},
   "outputs": [],
   "source": [
    "filepath = None\n",
    "filepath = \"framingham.csv\"\n",
    "df = pd.read_csv(filepath)"
   ]
  },
  {
   "cell_type": "markdown",
   "metadata": {},
   "source": [
    "## Explore the Data\n",
    "Get an overview of the dataset by looking at the first few rows, summary statistics, and data types."
   ]
  },
  {
   "cell_type": "code",
   "execution_count": 39,
   "metadata": {},
   "outputs": [
    {
     "name": "stdout",
     "output_type": "stream",
     "text": [
      "\n",
      "Head:\n",
      "    male  age  education  currentSmoker  cigsPerDay  BPMeds  prevalentStroke  \\\n",
      "0     1   39        4.0              0         0.0     0.0                0   \n",
      "1     0   46        2.0              0         0.0     0.0                0   \n",
      "2     1   48        1.0              1        20.0     0.0                0   \n",
      "3     0   61        3.0              1        30.0     0.0                0   \n",
      "4     0   46        3.0              1        23.0     0.0                0   \n",
      "\n",
      "   prevalentHyp  diabetes  totChol  sysBP  diaBP    BMI  heartRate  glucose  \\\n",
      "0             0         0    195.0  106.0   70.0  26.97       80.0     77.0   \n",
      "1             0         0    250.0  121.0   81.0  28.73       95.0     76.0   \n",
      "2             0         0    245.0  127.5   80.0  25.34       75.0     70.0   \n",
      "3             1         0    225.0  150.0   95.0  28.58       65.0    103.0   \n",
      "4             0         0    285.0  130.0   84.0  23.10       85.0     85.0   \n",
      "\n",
      "   TenYearCHD  \n",
      "0           0  \n",
      "1           0  \n",
      "2           0  \n",
      "3           1  \n",
      "4           0  \n",
      "\n",
      "Shape:\n",
      " (4240, 16)\n",
      "\n",
      "Columns:\n",
      " Index(['male', 'age', 'education', 'currentSmoker', 'cigsPerDay', 'BPMeds',\n",
      "       'prevalentStroke', 'prevalentHyp', 'diabetes', 'totChol', 'sysBP',\n",
      "       'diaBP', 'BMI', 'heartRate', 'glucose', 'TenYearCHD'],\n",
      "      dtype='object')\n",
      "\n",
      "Describe:\n",
      "               male          age    education  currentSmoker   cigsPerDay  \\\n",
      "count  4240.000000  4240.000000  4135.000000    4240.000000  4211.000000   \n",
      "mean      0.429245    49.580189     1.979444       0.494104     9.005937   \n",
      "std       0.495027     8.572942     1.019791       0.500024    11.922462   \n",
      "min       0.000000    32.000000     1.000000       0.000000     0.000000   \n",
      "25%       0.000000    42.000000     1.000000       0.000000     0.000000   \n",
      "50%       0.000000    49.000000     2.000000       0.000000     0.000000   \n",
      "75%       1.000000    56.000000     3.000000       1.000000    20.000000   \n",
      "max       1.000000    70.000000     4.000000       1.000000    70.000000   \n",
      "\n",
      "            BPMeds  prevalentStroke  prevalentHyp     diabetes      totChol  \\\n",
      "count  4187.000000      4240.000000   4240.000000  4240.000000  4190.000000   \n",
      "mean      0.029615         0.005896      0.310613     0.025708   236.699523   \n",
      "std       0.169544         0.076569      0.462799     0.158280    44.591284   \n",
      "min       0.000000         0.000000      0.000000     0.000000   107.000000   \n",
      "25%       0.000000         0.000000      0.000000     0.000000   206.000000   \n",
      "50%       0.000000         0.000000      0.000000     0.000000   234.000000   \n",
      "75%       0.000000         0.000000      1.000000     0.000000   263.000000   \n",
      "max       1.000000         1.000000      1.000000     1.000000   696.000000   \n",
      "\n",
      "             sysBP        diaBP          BMI    heartRate      glucose  \\\n",
      "count  4240.000000  4240.000000  4221.000000  4239.000000  3852.000000   \n",
      "mean    132.354599    82.897759    25.800801    75.878981    81.963655   \n",
      "std      22.033300    11.910394     4.079840    12.025348    23.954335   \n",
      "min      83.500000    48.000000    15.540000    44.000000    40.000000   \n",
      "25%     117.000000    75.000000    23.070000    68.000000    71.000000   \n",
      "50%     128.000000    82.000000    25.400000    75.000000    78.000000   \n",
      "75%     144.000000    90.000000    28.040000    83.000000    87.000000   \n",
      "max     295.000000   142.500000    56.800000   143.000000   394.000000   \n",
      "\n",
      "        TenYearCHD  \n",
      "count  4240.000000  \n",
      "mean      0.151887  \n",
      "std       0.358953  \n",
      "min       0.000000  \n",
      "25%       0.000000  \n",
      "50%       0.000000  \n",
      "75%       0.000000  \n",
      "max       1.000000  \n",
      "\n",
      " Describe:\n",
      "               male          age    education  currentSmoker   cigsPerDay  \\\n",
      "count  4240.000000  4240.000000  4135.000000    4240.000000  4211.000000   \n",
      "mean      0.429245    49.580189     1.979444       0.494104     9.005937   \n",
      "std       0.495027     8.572942     1.019791       0.500024    11.922462   \n",
      "min       0.000000    32.000000     1.000000       0.000000     0.000000   \n",
      "25%       0.000000    42.000000     1.000000       0.000000     0.000000   \n",
      "50%       0.000000    49.000000     2.000000       0.000000     0.000000   \n",
      "75%       1.000000    56.000000     3.000000       1.000000    20.000000   \n",
      "max       1.000000    70.000000     4.000000       1.000000    70.000000   \n",
      "\n",
      "            BPMeds  prevalentStroke  prevalentHyp     diabetes      totChol  \\\n",
      "count  4187.000000      4240.000000   4240.000000  4240.000000  4190.000000   \n",
      "mean      0.029615         0.005896      0.310613     0.025708   236.699523   \n",
      "std       0.169544         0.076569      0.462799     0.158280    44.591284   \n",
      "min       0.000000         0.000000      0.000000     0.000000   107.000000   \n",
      "25%       0.000000         0.000000      0.000000     0.000000   206.000000   \n",
      "50%       0.000000         0.000000      0.000000     0.000000   234.000000   \n",
      "75%       0.000000         0.000000      1.000000     0.000000   263.000000   \n",
      "max       1.000000         1.000000      1.000000     1.000000   696.000000   \n",
      "\n",
      "             sysBP        diaBP          BMI    heartRate      glucose  \\\n",
      "count  4240.000000  4240.000000  4221.000000  4239.000000  3852.000000   \n",
      "mean    132.354599    82.897759    25.800801    75.878981    81.963655   \n",
      "std      22.033300    11.910394     4.079840    12.025348    23.954335   \n",
      "min      83.500000    48.000000    15.540000    44.000000    40.000000   \n",
      "25%     117.000000    75.000000    23.070000    68.000000    71.000000   \n",
      "50%     128.000000    82.000000    25.400000    75.000000    78.000000   \n",
      "75%     144.000000    90.000000    28.040000    83.000000    87.000000   \n",
      "max     295.000000   142.500000    56.800000   143.000000   394.000000   \n",
      "\n",
      "        TenYearCHD  \n",
      "count  4240.000000  \n",
      "mean      0.151887  \n",
      "std       0.358953  \n",
      "min       0.000000  \n",
      "25%       0.000000  \n",
      "50%       0.000000  \n",
      "75%       0.000000  \n",
      "max       1.000000  \n",
      "\n",
      " Data Types:\n",
      " male                 int64\n",
      "age                  int64\n",
      "education          float64\n",
      "currentSmoker        int64\n",
      "cigsPerDay         float64\n",
      "BPMeds             float64\n",
      "prevalentStroke      int64\n",
      "prevalentHyp         int64\n",
      "diabetes             int64\n",
      "totChol            float64\n",
      "sysBP              float64\n",
      "diaBP              float64\n",
      "BMI                float64\n",
      "heartRate          float64\n",
      "glucose            float64\n",
      "TenYearCHD           int64\n",
      "dtype: object\n"
     ]
    }
   ],
   "source": [
    "print(\"\\nHead:\\n\", df.head())\n",
    "print(\"\\nShape:\\n\", df.shape)\n",
    "print(\"\\nColumns:\\n\", df.columns)\n",
    "print(\"\\nDescribe:\\n\", df.describe())\n",
    "print(\"\\n Describe:\\n\", df.describe())\n",
    "print(\"\\n Data Types:\\n\", df.dtypes)"
   ]
  },
  {
   "cell_type": "markdown",
   "metadata": {},
   "source": [
    "## Check Missing Values"
   ]
  },
  {
   "cell_type": "code",
   "execution_count": 40,
   "metadata": {},
   "outputs": [
    {
     "name": "stdout",
     "output_type": "stream",
     "text": [
      "\n",
      "Missing Values:\n",
      "male                 0\n",
      "age                  0\n",
      "education          105\n",
      "currentSmoker        0\n",
      "cigsPerDay          29\n",
      "BPMeds              53\n",
      "prevalentStroke      0\n",
      "prevalentHyp         0\n",
      "diabetes             0\n",
      "totChol             50\n",
      "sysBP                0\n",
      "diaBP                0\n",
      "BMI                 19\n",
      "heartRate            1\n",
      "glucose            388\n",
      "TenYearCHD           0\n",
      "dtype: int64\n"
     ]
    }
   ],
   "source": [
    "print(\"\\nMissing Values:\")\n",
    "print(df.isnull().sum())"
   ]
  },
  {
   "cell_type": "markdown",
   "metadata": {},
   "source": [
    "## Handling Missing Data    "
   ]
  },
  {
   "cell_type": "code",
   "execution_count": 41,
   "metadata": {},
   "outputs": [
    {
     "name": "stdout",
     "output_type": "stream",
     "text": [
      "\n",
      "Missing Values after replacing with mean:\n",
      "male               0\n",
      "age                0\n",
      "education          0\n",
      "currentSmoker      0\n",
      "cigsPerDay         0\n",
      "BPMeds             0\n",
      "prevalentStroke    0\n",
      "prevalentHyp       0\n",
      "diabetes           0\n",
      "totChol            0\n",
      "sysBP              0\n",
      "diaBP              0\n",
      "BMI                0\n",
      "heartRate          0\n",
      "glucose            0\n",
      "TenYearCHD         0\n",
      "dtype: int64\n"
     ]
    }
   ],
   "source": [
    "df['education']  = df['education'].fillna(df['education'].mean())\n",
    "df['cigsPerDay'] = df['cigsPerDay'].fillna(df['cigsPerDay'].mean())\n",
    "df['BPMeds']     = df['BPMeds'].fillna(df['BPMeds'].mean())\n",
    "df['totChol']    = df['totChol'].fillna(df['totChol'].mean())\n",
    "df['BMI']        = df['BMI'].fillna(df['BMI'].mean())\n",
    "df['heartRate']  = df['heartRate'].fillna(df['heartRate'].mean())\n",
    "df['glucose']    = df['glucose'].fillna(df['glucose'].mean())\n",
    "\n",
    "print(\"\\nMissing Values after replacing with mean:\")\n",
    "print(df.isnull().sum())\n"
   ]
  },
  {
   "cell_type": "markdown",
   "metadata": {},
   "source": [
    "## Define Features and Target\n",
    "Separate the dataset into input features (independent variables) and the target variable (dependent variable, \"TenYearCHD\")"
   ]
  },
  {
   "cell_type": "code",
   "execution_count": 42,
   "metadata": {},
   "outputs": [
    {
     "name": "stdout",
     "output_type": "stream",
     "text": [
      "Shape of X:  (4240, 15) Shape of y:  (4240,)\n"
     ]
    }
   ],
   "source": [
    "X = np.array(df.iloc[:, :-1].values)\n",
    "y = np.array(df.iloc[:, -1].values)\n",
    "\n",
    "print(\"Shape of X: \",X.shape, \"Shape of y: \",y.shape)"
   ]
  },
  {
   "cell_type": "markdown",
   "metadata": {},
   "source": [
    "### *Scaling the dataset*"
   ]
  },
  {
   "cell_type": "code",
   "execution_count": 43,
   "metadata": {},
   "outputs": [
    {
     "name": "stdout",
     "output_type": "stream",
     "text": [
      "\n",
      "X before scaling:\n",
      "[[  1.    39.     4.     0.     0.     0.     0.     0.     0.   195.\n",
      "  106.    70.    26.97  80.    77.  ]\n",
      " [  0.    46.     2.     0.     0.     0.     0.     0.     0.   250.\n",
      "  121.    81.    28.73  95.    76.  ]\n",
      " [  1.    48.     1.     1.    20.     0.     0.     0.     0.   245.\n",
      "  127.5   80.    25.34  75.    70.  ]\n",
      " [  0.    61.     3.     1.    30.     0.     0.     1.     0.   225.\n",
      "  150.    95.    28.58  65.   103.  ]\n",
      " [  0.    46.     3.     1.    23.     0.     0.     0.     0.   285.\n",
      "  130.    84.    23.1   85.    85.  ]]\n",
      "\n",
      "X after scaling:\n",
      "[[1.         0.18421053 1.         0.         0.         0.\n",
      "  0.         0.         0.         0.14940577 0.10638298 0.23280423\n",
      "  0.27702375 0.36363636 0.10451977]\n",
      " [0.         0.36842105 0.33333333 0.         0.         0.\n",
      "  0.         0.         0.         0.24278438 0.17730496 0.34920635\n",
      "  0.31968008 0.51515152 0.10169492]\n",
      " [1.         0.42105263 0.         1.         0.28571429 0.\n",
      "  0.         0.         0.         0.23429542 0.20803783 0.33862434\n",
      "  0.23751818 0.31313131 0.08474576]\n",
      " [0.         0.76315789 0.66666667 1.         0.42857143 0.\n",
      "  0.         1.         0.         0.20033956 0.3144208  0.4973545\n",
      "  0.3160446  0.21212121 0.1779661 ]\n",
      " [0.         0.36842105 0.66666667 1.         0.32857143 0.\n",
      "  0.         0.         0.         0.30220713 0.21985816 0.38095238\n",
      "  0.18322831 0.41414141 0.12711864]]\n"
     ]
    }
   ],
   "source": [
    "def min_max_scaler(X, feature_range=(0, 1)):\n",
    "    X_min = np.min(X, axis=0)\n",
    "    X_max = np.max(X, axis=0)\n",
    "\n",
    "    X_scaled = (X-X_min)/(X_max-X_min)\n",
    "\n",
    "    return X_scaled\n",
    "\n",
    "print(\"\\nX before scaling:\")\n",
    "print(X[:5])\n",
    "X = X.astype(float)\n",
    "\n",
    "X = min_max_scaler(X)\n",
    "print(\"\\nX after scaling:\")\n",
    "print(X[:5])"
   ]
  },
  {
   "cell_type": "markdown",
   "metadata": {},
   "source": [
    "## Split the Dataset\n",
    "Divide the data into training and testing sets to evaluate the model's performance on unseen data. "
   ]
  },
  {
   "cell_type": "code",
   "execution_count": 44,
   "metadata": {},
   "outputs": [
    {
     "name": "stdout",
     "output_type": "stream",
     "text": [
      "\n",
      "X_train shape:  (3392, 15) y_train shape:  (3392,)\n",
      "X_test shape:  (848, 15) y_test shape:  (848,)\n"
     ]
    }
   ],
   "source": [
    "X_train, X_test, y_train, y_test = train_test_split(X, y, test_size=0.2, random_state=0)\n",
    "print(\"\\nX_train shape: \", X_train.shape, \"y_train shape: \", y_train.shape)\n",
    "print(\"X_test shape: \", X_test.shape, \"y_test shape: \", y_test.shape)"
   ]
  },
  {
   "cell_type": "markdown",
   "metadata": {},
   "source": [
    "## **Train the Logistic Regression Model**"
   ]
  },
  {
   "cell_type": "markdown",
   "metadata": {},
   "source": [
    "### 1. Creating the Sigmoid Function\n"
   ]
  },
  {
   "cell_type": "code",
   "execution_count": 45,
   "metadata": {},
   "outputs": [],
   "source": [
    "def sigmoid(z):\n",
    "    g = None\n",
    "    z = z.astype(float)\n",
    "    g = 1 / (1 + np.exp(-z))\n",
    "    return g"
   ]
  },
  {
   "cell_type": "markdown",
   "metadata": {},
   "source": [
    "### 2. Computing the loss Function\n"
   ]
  },
  {
   "cell_type": "code",
   "execution_count": 46,
   "metadata": {},
   "outputs": [],
   "source": [
    "def loss_function(X, y, w, b):\n",
    "      m, n = X.shape\n",
    "\n",
    "      total_cost = 0\n",
    "      y_pred = sigmoid(np.dot(X, w.T) + b)\n",
    "      total_cost = -np.sum(y * np.log(y_pred) + (1 - y) * np.log(1 - y_pred)) / m\n",
    "\n",
    "      return total_cost"
   ]
  },
  {
   "cell_type": "markdown",
   "metadata": {},
   "source": [
    "### 3. Computing the Gradient of the Loss\n"
   ]
  },
  {
   "cell_type": "code",
   "execution_count": 47,
   "metadata": {},
   "outputs": [],
   "source": [
    "def compute_gradient_logistic_regression(X, y, w, b):\n",
    "   m, n = X.shape\n",
    "   dj_dw = np.zeros(w.shape)\n",
    "   dj_db = 0\n",
    "   y_pred = sigmoid(np.dot(X, w.T) + b)\n",
    "   dj_dw = np.dot((y_pred - y), X) / m\n",
    "   dj_db = np.sum(y_pred - y) / m\n",
    "\n",
    "   return dj_db, dj_dw"
   ]
  },
  {
   "cell_type": "markdown",
   "metadata": {},
   "source": [
    "### 4. Training the model using Batch Gradient Descent\n"
   ]
  },
  {
   "cell_type": "code",
   "execution_count": 48,
   "metadata": {},
   "outputs": [],
   "source": [
    "def batch_gradient_descent_logistic_regression(X, y, w_in, b_in, alpha, num_iters):\n",
    "    m = len(X)\n",
    "\n",
    "    loss_hist = []\n",
    "\n",
    "    w_in = copy.deepcopy(w_in)\n",
    "    b_in = b_in\n",
    "\n",
    "    for i in range(num_iters):\n",
    "        dj_db, dj_dw = compute_gradient_logistic_regression(X, y, w_in, b_in)\n",
    "        w_in = w_in - alpha * dj_dw\n",
    "        b_in = b_in - alpha * dj_db\n",
    "\n",
    "        loss = loss_function(X, y, w_in, b_in)\n",
    "        loss_hist.append(loss)\n",
    "\n",
    "        if i % 1000 == 0:\n",
    "            print(f'Loss after iteration {i}: {loss}')\n",
    "\n",
    "    return w_in, b_in, loss_hist"
   ]
  },
  {
   "cell_type": "code",
   "execution_count": 49,
   "metadata": {},
   "outputs": [],
   "source": [
    "random_seed = 17\n",
    "np.random.seed(random_seed)\n",
    "\n",
    "def initialize_parameters():\n",
    "    initial_w = None\n",
    "    initial_b = None\n",
    "    alpha = None\n",
    "    alpha = random.uniform(0.01, 0.09)\n",
    "\n",
    "    initial_w = np.random.normal(0, 1, X_train.shape[1])\n",
    "    initial_b = np.random.normal(0, 1, 1)\n",
    "\n",
    "    return initial_w,initial_b,alpha"
   ]
  },
  {
   "cell_type": "code",
   "execution_count": 50,
   "metadata": {},
   "outputs": [
    {
     "name": "stdout",
     "output_type": "stream",
     "text": [
      "Shape of w:  (15,)\n",
      "Shape of b:  (1,)\n",
      "Loss after iteration 0: 0.5337047028880955\n",
      "Loss after iteration 1000: 0.4069195871746832\n",
      "Loss after iteration 2000: 0.39376241880991475\n",
      "Loss after iteration 3000: 0.38768982793976836\n",
      "Loss after iteration 4000: 0.38447856305409506\n",
      "Loss after iteration 5000: 0.38262557761378774\n",
      "Loss after iteration 6000: 0.3814647347617624\n",
      "Loss after iteration 7000: 0.3806775799563914\n",
      "Loss after iteration 8000: 0.3801050032583732\n",
      "Loss after iteration 9000: 0.37966430367280446\n",
      "optimized parameter values w: [ 0.50080231  2.22568856 -0.15616643  0.10473748  1.08451898  0.26832891\n",
      "  0.59117052  0.38159308  0.50096443  0.20961449  2.41185255  0.15044376\n",
      " -0.76846202 -0.33688722  1.21360043]\n",
      "optimized parameter value b: [-3.97338931]\n",
      "Shape of w:  (15,)\n",
      "Shape of b:  (1,)\n"
     ]
    }
   ],
   "source": [
    "initial_w, initial_b, alpha = initialize_parameters()\n",
    "num_iterations = 10000\n",
    "\n",
    "print(\"Shape of w: \",initial_w.shape)\n",
    "print(\"Shape of b: \",initial_b.shape)\n",
    "\n",
    "\n",
    "w,b,loss_hist = batch_gradient_descent_logistic_regression(X_train ,y_train, initial_w, initial_b, alpha, num_iterations)\n",
    "print(\"optimized parameter values w:\", w)\n",
    "print(\"optimized parameter value b:\", b)\n",
    "\n",
    "print(\"Shape of w: \",w.shape)\n",
    "print(\"Shape of b: \",b.shape)\n"
   ]
  },
  {
   "cell_type": "markdown",
   "metadata": {},
   "source": [
    "### 5. Final Train and Test Accuracy\n"
   ]
  },
  {
   "cell_type": "code",
   "execution_count": 51,
   "metadata": {},
   "outputs": [],
   "source": [
    "def predict(X, w, b):\n",
    "      m, n = X.shape\n",
    "      p = np.zeros(m)\n",
    "      y_pred = sigmoid(np.dot(X, w.T) + b)\n",
    "\n",
    "      for i in range(m):\n",
    "          if y_pred[i] > 0.5:\n",
    "              p[i] = 1\n",
    "          else:\n",
    "              p[i] = 0\n",
    "              \n",
    "      return p"
   ]
  },
  {
   "cell_type": "code",
   "execution_count": 52,
   "metadata": {},
   "outputs": [
    {
     "name": "stdout",
     "output_type": "stream",
     "text": [
      "Train Accuracy: 85.347877\n",
      "Test Accuracy: 86.320755\n"
     ]
    }
   ],
   "source": [
    "p_train = predict(X_train, w,b)\n",
    "print('Train Accuracy: %f'%(np.mean(p_train == y_train) * 100))\n",
    "p_test = predict(X_test, w,b)\n",
    "print('Test Accuracy: %f'%(np.mean(p_test == y_test) * 100))"
   ]
  },
  {
   "cell_type": "markdown",
   "metadata": {},
   "source": [
    "Now, we plot the loss function values for every iteration."
   ]
  },
  {
   "cell_type": "code",
   "execution_count": 53,
   "metadata": {},
   "outputs": [
    {
     "data": {
      "image/png": "[encoded data removed]",
      "text/plain": [
       "<Figure size 640x480 with 1 Axes>"
      ]
     },
     "metadata": {},
     "output_type": "display_data"
    }
   ],
   "source": [
    "loss_plot = [loss_hist[i] for i in range(len(loss_hist))]\n",
    "plt.xlabel(\"Iterations\")\n",
    "plt.ylabel(\"Loss function\")\n",
    "plt.plot(loss_plot)\n",
    "plt.show()"
   ]
  },
  {
   "cell_type": "markdown",
   "metadata": {},
   "source": [
    "### The Confusion Matrix and Classification Report on Test Data"
   ]
  },
  {
   "cell_type": "code",
   "execution_count": 58,
   "metadata": {},
   "outputs": [
    {
     "name": "stdout",
     "output_type": "stream",
     "text": [
      "\n",
      "Confusion Matrix:\n",
      "[[721   1]\n",
      " [115  11]]\n",
      "\n",
      "Classification Report:\n",
      "              precision    recall  f1-score   support\n",
      "\n",
      "           0       0.86      1.00      0.93       722\n",
      "           1       0.92      0.09      0.16       126\n",
      "\n",
      "    accuracy                           0.86       848\n",
      "   macro avg       0.89      0.54      0.54       848\n",
      "weighted avg       0.87      0.86      0.81       848\n",
      "\n"
     ]
    },
    {
     "data": {
      "image/png": "[encoded data removed]",
      "text/plain": [
       "<Figure size 640x480 with 2 Axes>"
      ]
     },
     "metadata": {},
     "output_type": "display_data"
    }
   ],
   "source": [
    "print(\"\\nConfusion Matrix:\")\n",
    "print(confusion_matrix(y_test, p_test))\n",
    "print(\"\\nClassification Report:\")\n",
    "print(classification_report(y_test, p_test))\n",
    "\n",
    "cm = confusion_matrix(y_test, p_test)\n",
    "ax = plt.subplot()\n",
    "sns.heatmap(cm, annot=True, ax = ax)\n",
    "\n",
    "ax.set_xlabel('Predicted labels')\n",
    "ax.set_ylabel('True labels')\n",
    "ax.set_title('Confusion Matrix')\n",
    "\n",
    "plt.show()\n"
   ]
  }
 ],
 "metadata": {
  "kernelspec": {
   "display_name": "Python 3",
   "language": "python",
   "name": "python3"
  },
  "language_info": {
   "codemirror_mode": {
    "name": "ipython",
    "version": 3
   },
   "file_extension": ".py",
   "mimetype": "text/x-python",
   "name": "python",
   "nbconvert_exporter": "python",
   "pygments_lexer": "ipython3",
   "version": "3.9.7"
  }
 },
 "nbformat": 4,
 "nbformat_minor": 2
}
