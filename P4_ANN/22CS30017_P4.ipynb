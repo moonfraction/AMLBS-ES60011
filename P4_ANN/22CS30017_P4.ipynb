{
 "cells": [
  {
   "cell_type": "markdown",
   "metadata": {},
   "source": [
    "### *APPLICATION OF MACHINE LEARNING IN BIOLOGICAL SYSTEMS (ES60011)*\n",
    "# **Project-4**\n",
    "####  Back Propagation Neural Network"
   ]
  },
  {
   "cell_type": "code",
   "execution_count": 7,
   "metadata": {
    "id": "6FnrPWn3GOZt"
   },
   "outputs": [],
   "source": [
    "## NN\n",
    "\n",
    "# Import the necessary libraries\n",
    "import numpy as np\n",
    "\n",
    "# define the class\n",
    "class NN:\n",
    "\n",
    "  def __init__(self, input_layer_size = 2, hidden_layer_size = 2, output_layer_size = 2, lr = 0.5, epoches = 1000):  # define the constructor\n",
    "    self.input_layer_size = input_layer_size\n",
    "    self.hidden_layer_size = hidden_layer_size\n",
    "    self.output_layer_size = output_layer_size\n",
    "    self.lr = lr\n",
    "    self.number_of_epoches = epoches\n",
    "\n",
    "    #initialize the weights\n",
    "    #1. by random numbers\n",
    "    self.W1 = np.random.randn(self.input_layer_size, self.hidden_layer_size)\n",
    "    self.W2 = np.random.randn(self.hidden_layer_size, self.output_layer_size)\n",
    "    # print(f'W1 = {self.W1}')\n",
    "    # print(f'W2 = {self.W2}')\n",
    "\n",
    "    #2. with zeros\n",
    "    # self.W1 = np.zeros((self.input_layer_size, self.hidden_layer_size))\n",
    "    # self.W2 = np.zeros((self.hidden_layer_size, self.output_layer_size))\n",
    "    # print(f'W1 = {self.W1}')\n",
    "    # print(f'W2 = {self.W2}')\n",
    "\n",
    "    #3. specific numbers\n",
    "    # self.W1 = np.array([[0.15, 0.25], [0.20, 0.30]])  # ([[w1, w3], [w2, w4]])\n",
    "    # self.W2 = np.array([[0.40, 0.50], [0.45, 0.55]])\n",
    "    # print(f'W1 = \\n{self.W1}')\n",
    "    # print(f'W2 = \\n{self.W2}')\n",
    "\n",
    "    # bias\n",
    "    self.b1 = 0.35\n",
    "    self.b2 = 0.60\n",
    "\n",
    "  # define the activation function\n",
    "  def activation(self, x):\n",
    "    return (1 / (1 + np.exp(-x)))\n",
    "\n",
    "  # forward pass\n",
    "  def forward(self, X):\n",
    "    self.hidden = self.activation(np.dot(X, self.W1) + self.b1)  # H = activation(X*W1 + b)\n",
    "    self.output = self.activation(np.dot(self.hidden, self.W2) + self.b2)  # OP = activation(H*W2 + b)\n",
    "\n",
    "    # print(f'H = {self.hidden}')\n",
    "    # print(f'OP = {self.output}')\n",
    "    return self.output\n",
    "\n",
    "  # back propagation\n",
    "  def back_prop(self, X, y):\n",
    "    output = self.forward(X)\n",
    "    error = np.sum((y - output)**2/2)\n",
    "    # print(f'Error = {error}')\n",
    "    self.W2 -= self.lr * (np.dot(self.hidden.T, np.multiply(-(y - output), output * (1 - output)))) # W2 = W2 - alpha * (H * ((y-OP) * (OP * (OP - 1))))\n",
    "    # print(f'New W2 Weights: {self.W2}')\n",
    "\n",
    "    self.W1 -= self.lr * (np.dot(X.T, np.dot(np.multiply(-(y - output), output * (1 - output)), self.W2.T) * self.hidden * (1 - self.hidden)))\n",
    "    # print(f'New W1 Weights: {self.W1}')\n",
    "\n",
    "    self.b1 -= self.lr * np.sum(np.dot(np.multiply(-(y - output), output * (1 - output)), self.W2.T) * self.hidden * (1 - self.hidden))\n",
    "    # print(f'New b1 Weights: {self.b1}')\n",
    "\n",
    "    self.b2 -= self.lr * np.sum(np.multiply(-(y - output), output * (1 - output)))\n",
    "    # print(f'New b2 Weights: {self.b2}')\n",
    "\n",
    "    return error\n",
    "\n",
    "  # training; update the weights for the given number of epoches\n",
    "  def train(self, X, y):\n",
    "    loss = []\n",
    "    for _ in range(self.number_of_epoches):\n",
    "      e = self.back_prop(X, y)\n",
    "      loss.append(e)\n",
    "    return loss\n"
   ]
  },
  {
   "cell_type": "code",
   "execution_count": 8,
   "metadata": {
    "colab": {
     "base_uri": "https://localhost:8080/"
    },
    "id": "ACAdLaA-ilXm",
    "outputId": "ffce0eec-7088-4c35-e536-7d3dac0013df"
   },
   "outputs": [
    {
     "name": "stdout",
     "output_type": "stream",
     "text": [
      "np.dot = \n",
      " [[19 22]\n",
      " [43 50]]\n",
      "np.multiply = \n",
      " [[ 5 12]\n",
      " [21 32]]\n"
     ]
    }
   ],
   "source": [
    "\n",
    "# difference between np.dot and np.multiply\n",
    "\n",
    "a = np.array([[1, 2], [3, 4]])\n",
    "b = np.array([[5, 6], [7, 8]])\n",
    "\n",
    "print(f'np.dot = \\n', np.dot(a, b))\n",
    "print(f'np.multiply = \\n', np.multiply(a, b))\n",
    "\n"
   ]
  },
  {
   "cell_type": "code",
   "execution_count": 9,
   "metadata": {
    "colab": {
     "base_uri": "https://localhost:8080/",
     "height": 382
    },
    "id": "lmg1ll1Ainpw",
    "outputId": "41c4117f-fc06-43a0-f303-b254affc32ac"
   },
   "outputs": [
    {
     "data": {
      "text/html": [
       "<div>\n",
       "<style scoped>\n",
       "    .dataframe tbody tr th:only-of-type {\n",
       "        vertical-align: middle;\n",
       "    }\n",
       "\n",
       "    .dataframe tbody tr th {\n",
       "        vertical-align: top;\n",
       "    }\n",
       "\n",
       "    .dataframe thead th {\n",
       "        text-align: right;\n",
       "    }\n",
       "</style>\n",
       "<table border=\"1\" class=\"dataframe\">\n",
       "  <thead>\n",
       "    <tr style=\"text-align: right;\">\n",
       "      <th></th>\n",
       "      <th>RM</th>\n",
       "      <th>LSTAT</th>\n",
       "      <th>PTRATIO</th>\n",
       "      <th>MEDV</th>\n",
       "    </tr>\n",
       "  </thead>\n",
       "  <tbody>\n",
       "    <tr>\n",
       "      <th>0</th>\n",
       "      <td>6.575</td>\n",
       "      <td>4.98</td>\n",
       "      <td>15.3</td>\n",
       "      <td>504000.0</td>\n",
       "    </tr>\n",
       "    <tr>\n",
       "      <th>1</th>\n",
       "      <td>6.421</td>\n",
       "      <td>9.14</td>\n",
       "      <td>17.8</td>\n",
       "      <td>453600.0</td>\n",
       "    </tr>\n",
       "    <tr>\n",
       "      <th>2</th>\n",
       "      <td>7.185</td>\n",
       "      <td>4.03</td>\n",
       "      <td>17.8</td>\n",
       "      <td>728700.0</td>\n",
       "    </tr>\n",
       "    <tr>\n",
       "      <th>3</th>\n",
       "      <td>6.998</td>\n",
       "      <td>2.94</td>\n",
       "      <td>18.7</td>\n",
       "      <td>701400.0</td>\n",
       "    </tr>\n",
       "    <tr>\n",
       "      <th>4</th>\n",
       "      <td>7.147</td>\n",
       "      <td>5.33</td>\n",
       "      <td>18.7</td>\n",
       "      <td>760200.0</td>\n",
       "    </tr>\n",
       "    <tr>\n",
       "      <th>...</th>\n",
       "      <td>...</td>\n",
       "      <td>...</td>\n",
       "      <td>...</td>\n",
       "      <td>...</td>\n",
       "    </tr>\n",
       "    <tr>\n",
       "      <th>484</th>\n",
       "      <td>6.593</td>\n",
       "      <td>9.67</td>\n",
       "      <td>21.0</td>\n",
       "      <td>470400.0</td>\n",
       "    </tr>\n",
       "    <tr>\n",
       "      <th>485</th>\n",
       "      <td>6.120</td>\n",
       "      <td>9.08</td>\n",
       "      <td>21.0</td>\n",
       "      <td>432600.0</td>\n",
       "    </tr>\n",
       "    <tr>\n",
       "      <th>486</th>\n",
       "      <td>6.976</td>\n",
       "      <td>5.64</td>\n",
       "      <td>21.0</td>\n",
       "      <td>501900.0</td>\n",
       "    </tr>\n",
       "    <tr>\n",
       "      <th>487</th>\n",
       "      <td>6.794</td>\n",
       "      <td>6.48</td>\n",
       "      <td>21.0</td>\n",
       "      <td>462000.0</td>\n",
       "    </tr>\n",
       "    <tr>\n",
       "      <th>488</th>\n",
       "      <td>6.030</td>\n",
       "      <td>7.88</td>\n",
       "      <td>21.0</td>\n",
       "      <td>249900.0</td>\n",
       "    </tr>\n",
       "  </tbody>\n",
       "</table>\n",
       "<p>489 rows × 4 columns</p>\n",
       "</div>"
      ],
      "text/plain": [
       "        RM  LSTAT  PTRATIO      MEDV\n",
       "0    6.575   4.98     15.3  504000.0\n",
       "1    6.421   9.14     17.8  453600.0\n",
       "2    7.185   4.03     17.8  728700.0\n",
       "3    6.998   2.94     18.7  701400.0\n",
       "4    7.147   5.33     18.7  760200.0\n",
       "..     ...    ...      ...       ...\n",
       "484  6.593   9.67     21.0  470400.0\n",
       "485  6.120   9.08     21.0  432600.0\n",
       "486  6.976   5.64     21.0  501900.0\n",
       "487  6.794   6.48     21.0  462000.0\n",
       "488  6.030   7.88     21.0  249900.0\n",
       "\n",
       "[489 rows x 4 columns]"
      ]
     },
     "execution_count": 9,
     "metadata": {},
     "output_type": "execute_result"
    }
   ],
   "source": [
    "\n",
    "# Dataset\n",
    "import pandas as pd\n",
    "import numpy as np\n",
    "\n",
    "df = pd.read_csv('./housing.csv')\n",
    "df"
   ]
  },
  {
   "cell_type": "code",
   "execution_count": 10,
   "metadata": {
    "id": "e3M3xwQKinnj"
   },
   "outputs": [
    {
     "name": "stdout",
     "output_type": "stream",
     "text": [
      "(489, 3)\n",
      "(489,)\n"
     ]
    }
   ],
   "source": [
    "\n",
    "X_data = df.drop(columns=['MEDV'])\n",
    "y_data = df['MEDV']\n",
    "X_data = X_data.to_numpy()\n",
    "y_data = y_data.to_numpy()\n",
    "X_data = (X_data-np.min(X_data))/(np.max(X_data)-np.min(X_data))\n",
    "y_data = (y_data-np.min(y_data))/(np.max(y_data)-np.min(y_data))\n",
    "print(X_data.shape)\n",
    "print(y_data.shape)\n",
    "\n"
   ]
  },
  {
   "cell_type": "code",
   "execution_count": 11,
   "metadata": {
    "id": "8N-FdS7wiveS"
   },
   "outputs": [
    {
     "name": "stdout",
     "output_type": "stream",
     "text": [
      "Hidden Layer Size: 3, Learning Rate: 0.01, Folds: 5, Avg MSE: 0.010291278762736413\n",
      "Hidden Layer Size: 3, Learning Rate: 0.01, Folds: 10, Avg MSE: 0.010121487864963422\n",
      "Hidden Layer Size: 4, Learning Rate: 0.001, Folds: 5, Avg MSE: 0.02398210475273451\n",
      "Hidden Layer Size: 4, Learning Rate: 0.001, Folds: 10, Avg MSE: 0.02299866371639337\n",
      "Hidden Layer Size: 5, Learning Rate: 0.0001, Folds: 5, Avg MSE: 0.028845823020240264\n",
      "Hidden Layer Size: 5, Learning Rate: 0.0001, Folds: 10, Avg MSE: 0.029679768320243227\n"
     ]
    }
   ],
   "source": [
    "\n",
    "from sklearn.model_selection import KFold\n",
    "\n",
    "# Function to train and evaluate the model\n",
    "def train_and_evaluate(X_data, y_data, hidden_layer_size, learning_rate, n_splits):\n",
    "    kf = KFold(n_splits=n_splits, shuffle=True, random_state=82)\n",
    "    mse_scores = []\n",
    "\n",
    "    for train_index, test_index in kf.split(X_data):\n",
    "        X_train, X_test = X_data[train_index], X_data[test_index]\n",
    "        y_train, y_test = y_data[train_index], y_data[test_index]\n",
    "\n",
    "        model = NN(input_layer_size=X_data.shape[1], hidden_layer_size=hidden_layer_size, output_layer_size=1, lr=learning_rate, epoches=1000)\n",
    "        loss = model.train(X_train, y_train.reshape(-1, 1))\n",
    "\n",
    "        y_pred = model.forward(X_test)\n",
    "        mse = np.mean((y_test - y_pred.flatten())**2)\n",
    "        mse_scores.append(mse)\n",
    "\n",
    "    avg_mse = np.mean(mse_scores)\n",
    "    return avg_mse, loss\n",
    "\n",
    "# Configurations\n",
    "configs = [\n",
    "    {'hidden_layer_size': 3, 'learning_rate': 0.01},\n",
    "    {'hidden_layer_size': 4, 'learning_rate': 0.001},\n",
    "    {'hidden_layer_size': 5, 'learning_rate': 0.0001}\n",
    "]\n",
    "\n",
    "# Perform cross-validation\n",
    "results = [\n",
    "    (config['hidden_layer_size'], config['learning_rate'], n_splits, *train_and_evaluate(X_data, y_data, config['hidden_layer_size'], config['learning_rate'], n_splits))\n",
    "    for config in configs\n",
    "    for n_splits in [5, 10]\n",
    "]\n",
    "\n",
    "# Print results\n",
    "for hidden_layer_size, learning_rate, n_splits, avg_mse, _ in results:\n",
    "    print(f\"Hidden Layer Size: {hidden_layer_size}, Learning Rate: {learning_rate}, Folds: {n_splits}, Avg MSE: {avg_mse}\")\n",
    "\n"
   ]
  },
  {
   "cell_type": "code",
   "execution_count": 17,
   "metadata": {
    "id": "9_pzknIMixuP"
   },
   "outputs": [
    {
     "data": {
      "image/png": "[encoded data removed]",
      "text/plain": [
       "<Figure size 640x480 with 1 Axes>"
      ]
     },
     "metadata": {},
     "output_type": "display_data"
    }
   ],
   "source": [
    "\n",
    "# Plot the loss\n",
    "import matplotlib.pyplot as plt\n",
    "\n",
    "hidden_layer_size = 3\n",
    "learning_rate = 0.01\n",
    "n_splits = 5\n",
    "\n",
    "model = NN(input_layer_size=X_data.shape[1], hidden_layer_size=hidden_layer_size, output_layer_size=1, lr=learning_rate, epoches=1000)\n",
    "loss = model.train(X_data, y_data.reshape(-1, 1))\n",
    "\n",
    "plt.plot(loss)\n",
    "plt.xlabel('Epoch')\n",
    "plt.ylabel('Loss')\n",
    "plt.title('Training Loss')\n",
    "plt.show()\n"
   ]
  }
 ],
 "metadata": {
  "colab": {
   "provenance": []
  },
  "kernelspec": {
   "display_name": "Python 3",
   "name": "python3"
  },
  "language_info": {
   "codemirror_mode": {
    "name": "ipython",
    "version": 3
   },
   "file_extension": ".py",
   "mimetype": "text/x-python",
   "name": "python",
   "nbconvert_exporter": "python",
   "pygments_lexer": "ipython3",
   "version": "3.9.7"
  }
 },
 "nbformat": 4,
 "nbformat_minor": 0
}
